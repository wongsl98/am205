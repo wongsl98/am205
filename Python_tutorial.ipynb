{
  "nbformat": 4,
  "nbformat_minor": 0,
  "metadata": {
    "colab": {
      "name": "Python tutorial.ipynb",
      "provenance": [],
      "collapsed_sections": [],
      "include_colab_link": true
    },
    "kernelspec": {
      "name": "python3",
      "display_name": "Python 3"
    }
  },
  "cells": [
    {
      "cell_type": "markdown",
      "metadata": {
        "id": "view-in-github",
        "colab_type": "text"
      },
      "source": [
        "<a href=\"https://colab.research.google.com/github/wongsl98/am205/blob/master/Python_tutorial.ipynb\" target=\"_parent\"><img src=\"https://colab.research.google.com/assets/colab-badge.svg\" alt=\"Open In Colab\"/></a>"
      ]
    },
    {
      "cell_type": "markdown",
      "metadata": {
        "id": "jsz7X--K7RGA",
        "colab_type": "text"
      },
      "source": [
        "# Python Tutorial\n",
        "Here we will cover some programming basics in Python that will be useful throughout the course.\n",
        "### **Working in a Google Colab python notebook**\n",
        "During this tutorial, we'll be demoing code examples using Google Colab, a cloud-based free Jupyter notebook environment. The notebooks can be downloaded to run locally as well (go to File->Download .ipynb) if you have the ```jupyter notebook``` package installed with your Python installation.\n",
        "\n",
        "To run a code cell in Google Colab, first select the code cell anywhere with your cursor. You will see a \"play\" button appear on the left margin of the cell. You may execute the cell by clicking the button, or by typing any of the following shortcuts: Shift+Enter, Command+Enter, Ctrl+Enter.\n",
        "Test running the following cell:"
      ]
    },
    {
      "cell_type": "code",
      "metadata": {
        "id": "fRemN-2h7KQE",
        "colab_type": "code",
        "colab": {
          "base_uri": "https://localhost:8080/",
          "height": 34
        },
        "outputId": "a1d8c09c-7bb8-4e37-a793-8624cd7c7063"
      },
      "source": [
        "pi = 22/7\n",
        "print(\"{} is an approximation for pi.\".format(pi))"
      ],
      "execution_count": null,
      "outputs": [
        {
          "output_type": "stream",
          "text": [
            "3.142857142857143 is an approximation for pi.\n"
          ],
          "name": "stdout"
        }
      ]
    },
    {
      "cell_type": "markdown",
      "metadata": {
        "id": "jWMww0X38CRu",
        "colab_type": "text"
      },
      "source": [
        "### **A quick note about notebooks**\n",
        "Notebooks are a useful way to organize and annotate code especially for demos, support $\\LaTeX$ for writing mathematical expressions, and allow code to be executed in smaller blocks (cells) that can help to simplify a large program. However, you'll see code examples throughout the course primarily as ```.py``` scripts executed via terminal, which is typically our preferred environment for easily and efficiently running programs. However, for this demo and if you choose to use notebooks later on, there are a couple of important points to keep in mind:\n",
        "- The block structure allows code to be run out of order, so be careful that you've executed your cells in order from top to bottom.\n",
        "- Variables, objects, and functions you define persist throughout your notebook while your session is active, even if you delete the cell(s) that defined them. If you want to delete or rename a variable, make sure you update its occurrences throughout the notebook. You can restart your runtime and run all cells to check for any undefined variables."
      ]
    },
    {
      "cell_type": "markdown",
      "metadata": {
        "id": "gpf4-jf9CLPS",
        "colab_type": "text"
      },
      "source": [
        "### **Python syntax**\n",
        "Let's start by reviewing fundamentals of Python syntax.\n",
        "Below are examples of defining variables, composing basic mathematical operations, and printing values:"
      ]
    },
    {
      "cell_type": "code",
      "metadata": {
        "id": "15UE6lrg78zj",
        "colab_type": "code",
        "colab": {
          "base_uri": "https://localhost:8080/",
          "height": 68
        },
        "outputId": "2076e107-6b1f-48e5-b183-f9dddf1efb9a"
      },
      "source": [
        "x = 9; y = 7\n",
        "x += y           # modify x in place. equivalent to x = x+y\n",
        "print(x)\n",
        "\n",
        "p = x / y        # regular floating point division.\n",
        "q = x // y       # integer division: result rounded down to closest integer\n",
        "print(p, q)\n",
        "\n",
        "a = x**2         # raising to a power is performed by **, not ^\n",
        "b = x**-0.25\n",
        "print(a, b)"
      ],
      "execution_count": null,
      "outputs": [
        {
          "output_type": "stream",
          "text": [
            "16\n",
            "2.2857142857142856 2\n",
            "256 0.5\n"
          ],
          "name": "stdout"
        }
      ]
    },
    {
      "cell_type": "markdown",
      "metadata": {
        "id": "57Cmcv-ZCpg4",
        "colab_type": "text"
      },
      "source": [
        "### **Lists, loops, and iteration**\n",
        "Lists are a general ordered set whose entries can store values, strings, other lists, objects, etc., and are defined using brackets ```[]```. Lists **do not** always behave the same way as ```numpy``` arrays (which we will get to later) and do not follow the same conventions with algebraic operations. ```numpy``` arrays are preferred."
      ]
    },
    {
      "cell_type": "code",
      "metadata": {
        "id": "D5ScPG9kCf1U",
        "colab_type": "code",
        "colab": {
          "base_uri": "https://localhost:8080/",
          "height": 85
        },
        "outputId": "7d3164d5-2372-4451-b3cb-487fd67e7aee"
      },
      "source": [
        "list1 = [1, 4]\n",
        "list2 = [9, 16, 25]\n",
        "sq = list1 + list2      # Addition concatenates lists together\n",
        "sq2 = 2*sq              # Multiplication multiplies the list length, not the values stored!\n",
        "print(sq)\n",
        "print(sq2)\n",
        "\n",
        "# add the squares using sum:\n",
        "sum_sq = sum(sq)\n",
        "print(\"Sum of squares: {}\".format(sum_sq))\n",
        "\n",
        "# sort using sorted:\n",
        "sort_sq = sorted(sq2)\n",
        "print(\"Sorted double squares: {}\".format(sort_sq))"
      ],
      "execution_count": null,
      "outputs": [
        {
          "output_type": "stream",
          "text": [
            "[1, 4, 9, 16, 25]\n",
            "[1, 4, 9, 16, 25, 1, 4, 9, 16, 25]\n",
            "Sum of squares: 55\n",
            "Sorted double squares: [1, 1, 4, 4, 9, 9, 16, 16, 25, 25]\n"
          ],
          "name": "stdout"
        }
      ]
    },
    {
      "cell_type": "markdown",
      "metadata": {
        "id": "So9-LWNpbAnB",
        "colab_type": "text"
      },
      "source": [
        "Indexing and slicing:\n",
        "\n",
        "Python indexing starts from 0, and the last valid index for a list or array of length $N$ is ```N-1```. In addition, Python supports negative indexing, so that the index ```-1``` returns the last entry of the list, ```-2``` the second to last, and so on.\n",
        "\n",
        "A slice of a list or array is specified by colon-separated values as ```start:stop:skip```. Starting at zero, stopping at the end, and skipping by 1 are implied if any of these values is omitted, as shown in the examples below."
      ]
    },
    {
      "cell_type": "code",
      "metadata": {
        "id": "fLK7vNsPbLOp",
        "colab_type": "code",
        "colab": {
          "base_uri": "https://localhost:8080/",
          "height": 153
        },
        "outputId": "038daec6-8805-4818-da29-dbc340c37d0a"
      },
      "source": [
        "first = sq2[0]         # Zero indexes the first entry.\n",
        "last = sq2[len(sq2)-1] # The last index is the length of the list minus 1.\n",
        "last = sq2[-1]         # Or, we can use negative indexing, which starts from the end.\n",
        "\n",
        "f5 = sq2[:5]  # First five elements\n",
        "l3 = sq[-3:]  # Last three elements\n",
        "sl = sq2[3:6] # An interior slice. Slicing is inclusive of first index, exclusive of the last index, but it\n",
        "             # allows us to easily calculate the number of entries in the slice.\n",
        "             # Here, we include entries with indices 3,4,5, for a total of (6-3)=3.\n",
        "\n",
        "a = sq2[:]   # All\n",
        "e2 = sq2[::2] # Every two\n",
        "al = sq2[:-1] # All but the last\n",
        "\n",
        "print(\"First:\", first)\n",
        "print(\"Last:\", last)\n",
        "print(\"First five:\", f5)\n",
        "print(\"Last three:\", l3)\n",
        "print(\"Interior slice:\", sl)\n",
        "print(\"All:\", a)\n",
        "print(\"Every two:\", e2)\n",
        "print(\"All but last:\", al)"
      ],
      "execution_count": null,
      "outputs": [
        {
          "output_type": "stream",
          "text": [
            "First: 1\n",
            "Last: 25\n",
            "First five: [1, 4, 9, 16, 25]\n",
            "Last three: [9, 16, 25]\n",
            "Interior slice: [16, 25, 1]\n",
            "All: [1, 4, 9, 16, 25, 1, 4, 9, 16, 25]\n",
            "Every two: [1, 9, 25, 4, 16]\n",
            "All but last: [1, 4, 9, 16, 25, 1, 4, 9, 16]\n"
          ],
          "name": "stdout"
        }
      ]
    },
    {
      "cell_type": "markdown",
      "metadata": {
        "id": "F0onCgdfIFw9",
        "colab_type": "text"
      },
      "source": [
        "How could we use slicing to quickly reverse the order of a list?"
      ]
    },
    {
      "cell_type": "code",
      "metadata": {
        "id": "YaP016zDvtwk",
        "colab_type": "code",
        "colab": {
          "base_uri": "https://localhost:8080/",
          "height": 34
        },
        "outputId": "5feca773-9011-475b-91c6-9f939f2af9b9"
      },
      "source": [
        "# your code here\n",
        "\n",
        "# sq2 = [1,4,9,16,25]\n",
        "\n",
        "sq_reversed = sq2[::-1]\n",
        "print(sq_reversed)"
      ],
      "execution_count": null,
      "outputs": [
        {
          "output_type": "stream",
          "text": [
            "[25, 16, 9, 4, 1, 25, 16, 9, 4, 1]\n"
          ],
          "name": "stdout"
        }
      ]
    },
    {
      "cell_type": "markdown",
      "metadata": {
        "id": "HG3X9bCRDFv6",
        "colab_type": "text"
      },
      "source": [
        "A ```for``` loop can be used to iterate over values in a list. The syntax is ```for <iterator> in <sequence>:``` followed by an indented line below. There are a few different ways to iterate:"
      ]
    },
    {
      "cell_type": "code",
      "metadata": {
        "id": "rb7DWhGlCuOa",
        "colab_type": "code",
        "colab": {}
      },
      "source": [
        "# range(N) for integer N generates a sequence 0, 1, ... N-1 for our iterator\n",
        "# i to take on. More generally, you can specify range(start, stop).\n",
        "for i in range(len(sq)): \n",
        "  print(i, sq[i])\n",
        "\n",
        "# another equivalent way is to use the enumerate syntax to achieve the same as above\n",
        "# i is the index that picks up each element in the list sq. \n",
        "# \"square\" is just a name of the item in the list that you are pulling out that\n",
        "# corresponds to the index\n",
        "for i,square in enumerate(sq):\n",
        "  print(i, square)\n",
        "\n",
        "\n",
        "# Lists are sequences, so our iterator can take on the list values\n",
        "# directly. But, we do not have a counter.\n",
        "for square in sq:\n",
        "  print(\"The square is {}\".format(square))\n",
        "\n",
        "# Use enumerate to iterate over values while also incrementing a counter:\n",
        "for i,square in enumerate(sq):\n",
        "    print(\"{} squared is {}\".format(i+1,square))"
      ],
      "execution_count": null,
      "outputs": []
    },
    {
      "cell_type": "markdown",
      "metadata": {
        "id": "vhOirj67Sq6I",
        "colab_type": "text"
      },
      "source": [
        "Loops provide a quick way to create lists as well using list comprehension:"
      ]
    },
    {
      "cell_type": "code",
      "metadata": {
        "id": "EzxBrOxXSuGY",
        "colab_type": "code",
        "colab": {}
      },
      "source": [
        "sq = [i**2 for i in range(1,6)] # i will be iterated through 1,2,3,4,5\n",
        "print(sq)"
      ],
      "execution_count": null,
      "outputs": []
    },
    {
      "cell_type": "markdown",
      "metadata": {
        "id": "8AWtd5pVPZrc",
        "colab_type": "text"
      },
      "source": [
        "### ***Exercise #1a: Binary to decimal conversion***\n",
        "Consider a list whose entries are interpreted as the digits of a binary number. For example, the list ```[1,1,0]``` represents the binary number $110$. Below, write a short script which converts such a binary representation to its corresponding decimal (base 10) number. As an example, the binary number 110 is\n",
        "\n",
        "$$\n",
        "(1)2^2 + (1)2^1 + (0)2^0 = 6\n",
        "$$\n",
        "\n",
        "in base 10. Test your routine for the following cases:\n",
        "\n",
        "$$\n",
        "\\begin{align}\n",
        "b &= 011 \\quad(3)\\\\\n",
        "b &= 101 \\quad(5)\\\\\n",
        "b &= 111111 \\quad(63)\\\\\n",
        "b &= 101010 \\quad(42)\n",
        "\\end{align}\n",
        "$$\n",
        "\n",
        "Try to write your routine generally for any length list. We will package this routine into a function later."
      ]
    },
    {
      "cell_type": "code",
      "metadata": {
        "id": "Cu4ugw7o22Y-",
        "colab_type": "code",
        "colab": {
          "base_uri": "https://localhost:8080/",
          "height": 34
        },
        "outputId": "a5959b49-cd44-4fac-aa9c-202b9c3ef56f"
      },
      "source": [
        "# your code here\n",
        "\n",
        "# given list\n",
        "ls = [1,1,1,1,1,1]\n",
        "\n",
        "# reverse the order so we access the digits in order of significance\n",
        "ls_reverse = ls[::-1]\n",
        "\n",
        "# initialize sum to store the sum\n",
        "sum = 0\n",
        "\n",
        "# iterate through the list with the corresponding index\n",
        "for i,binary in enumerate(ls_reverse):\n",
        "  sum += (2**i)*binary\n",
        "\n",
        "print(sum)"
      ],
      "execution_count": null,
      "outputs": [
        {
          "output_type": "stream",
          "text": [
            "63\n"
          ],
          "name": "stdout"
        }
      ]
    },
    {
      "cell_type": "markdown",
      "metadata": {
        "id": "D1Jvo0IVCq67",
        "colab_type": "text"
      },
      "source": [
        "Assigning a second variable to the same list **does not** create a new copy the list - both variables will refer to the same object in memory (this is true for ```numpy``` arrays as well). Be careful, as this could lead to unwanted changes to the list!"
      ]
    },
    {
      "cell_type": "code",
      "metadata": {
        "id": "wfAso8qUDEUg",
        "colab_type": "code",
        "colab": {}
      },
      "source": [
        "# first list\n",
        "a = [1, 2, 3]\n",
        "b = a # assign a to b\n",
        "print(\"b = a\\n a: {}; b: {}\".format(a, b))\n",
        "\n",
        "# modify b:\n",
        "b[0] = 4\n",
        "print(\"modify b - changes a\\n a: {}; b: {}\".format(a, b)) # both lists have changed\n",
        "\n",
        "# create a new list of three zeros:\n",
        "c = 3*[0]\n",
        "c[:] = a[:] # copy all values of a into c. Now, c does not reference the same object as a.\n",
        "print(\"c[:] = a[:]\\n a: {}; c: {}\".format(a, c))\n",
        "\n",
        "# modify c:\n",
        "c[2] = 5\n",
        "print(\"modify c - a unchanged\\n a: {}; c: {}\".format(a, c)) # a has not changed\n",
        "\n",
        "# One way to ensure an object and any contained objects are copied:\n",
        "# (creates entirely new object d, that is equal to a)\n",
        "import copy\n",
        "d = copy.deepcopy(a)"
      ],
      "execution_count": null,
      "outputs": []
    },
    {
      "cell_type": "markdown",
      "metadata": {
        "id": "aU9jqZZtESvB",
        "colab_type": "text"
      },
      "source": [
        "### **Formatted printing**\n",
        "The braces ```{}``` in our print statements are placeholders replaced by values of the variables listed after ```.format```. We can specify explicit formatting in the braces as follows:"
      ]
    },
    {
      "cell_type": "code",
      "metadata": {
        "id": "AV0LIaJ6DNoJ",
        "colab_type": "code",
        "colab": {
          "base_uri": "https://localhost:8080/",
          "height": 85
        },
        "outputId": "b614b781-2765-483f-ac0a-0e68e6ea8f16"
      },
      "source": [
        "# format an integer:\n",
        "print(\"{:d} is an approximation for pi.\".format(3))\n",
        "\n",
        "# format a float (default precision):\n",
        "print(\"{:f} is an approximation for pi.\".format(22/7))\n",
        "\n",
        "# specify a minimum of 3 total digits of precision,\n",
        "# with 2 of them after the decimal:\n",
        "print(\"{:3.2f} is an approximation for pi.\".format(22/7))\n",
        "\n",
        "# use scientific notation:\n",
        "sun_mass = 1.989e30\n",
        "print(\"The mass of the sun is approximately {:2.1e} kg.\".format(sun_mass))"
      ],
      "execution_count": null,
      "outputs": [
        {
          "output_type": "stream",
          "text": [
            "3 is an approximation for pi.\n",
            "3.142857 is an approximation for pi.\n",
            "3.14 is an approximation for pi.\n",
            "The mass of the sun is approximately 2.0e+30 kg.\n"
          ],
          "name": "stdout"
        }
      ]
    },
    {
      "cell_type": "markdown",
      "metadata": {
        "id": "1YJ2LMATIVRO",
        "colab_type": "text"
      },
      "source": [
        "### **Functions and conditionals**\n",
        "Functions are defined using the syntax ```def```, and one or more values can be returned via ```return```. The function name and arguments are followed by a colon, and the function definition should be indented.\n",
        "\n",
        "Conditional statements ```if```, ```elif```, and ```else``` are also followed by a colon, and the line below should be indented. Indentation matters!"
      ]
    },
    {
      "cell_type": "code",
      "metadata": {
        "id": "IQKBRZilD3qD",
        "colab_type": "code",
        "colab": {}
      },
      "source": [
        "# return whether a number is positive, negative, or zero.\n",
        "def sign(a):\n",
        "  if a>0:\n",
        "    return 'positive'\n",
        "  elif a<0:\n",
        "    return 'negative'\n",
        "  else:\n",
        "    return 'zero'\n",
        "\n",
        "# test:\n",
        "x = 5\n",
        "print(\"{} is {}.\".format(x, sign(x)))\n",
        "y = -2.7\n",
        "print(\"{} is {}.\".format(y, sign(y)))\n",
        "z = 0\n",
        "print(\"{} is {}.\".format(z, sign(z)))"
      ],
      "execution_count": null,
      "outputs": []
    },
    {
      "cell_type": "markdown",
      "metadata": {
        "id": "rHBIIyfLmNQ7",
        "colab_type": "text"
      },
      "source": [
        "### ***Exercise #1b: A cellular automaton***\n",
        "First, package your binary to decimal routine from Exercise 1a into a function, ```bin2dec```, which accepts a list as an argument and returns its decimal representation.\n",
        "\n",
        "<p>... &#x25EF &#x25C9 &#x25C9 &#x25EF &#x25EF &#x25C9 &#x25EF &#x25C9 &#x25EF &#x25EF &#x25C9 ...</p>\n",
        "\n",
        "Next, consider a 1-D system of $N$ cells like the graphic above, whose state $s$ is represented by a 1 (on) or 0 (off). The state of each cell evolves in time according to a rule that depends on the states of the cell and its two nearest neighbors. Define the \"neighborhood\" of the $i^{th}$ cell as the triplet of current states $[s_{i-1}, s_i, s_{i+1}]$ of the cell's left neighbor, itself, and its right neighbor. Thus, all possible configurations of a cell's neighborhood are the set of 3-digit binary numbers: 000, 001, 010, 011, 100, 101, 110, 111. The new state of the cell is determined by the decimal representation of the neighborhood, as follows:\n",
        "\n",
        "| Neighborhood | 0 | 1 | 2 | 3 | 4 | 5 | 6 | 7 |\n",
        "|--------------|---|---|---|---|---|---|---|---|\n",
        "| New state    | 0 | 1 | 0 | 0 | 1 | 0 | 0 | 0 |\n",
        "\n",
        "Write a routine which initializes a system of $N=101$ cells, with only the middle cell initially on. Step the state of each cell forward in time according to the above neighborhood rules for $T=50$ steps, using periodic boundary conditions to determine neighborhoods of the first and last cell. How many cells are 'on' after the final step?\n",
        "\n",
        "In our final extension of this exercise, we will visualize the sequence of cell states as an image."
      ]
    },
    {
      "cell_type": "code",
      "metadata": {
        "id": "OVva6Thg2zl4",
        "colab_type": "code",
        "colab": {
          "base_uri": "https://localhost:8080/",
          "height": 232
        },
        "outputId": "c0b0dfad-6bdd-48d8-e203-2a64114b96f1"
      },
      "source": [
        "# your code here\n",
        "\n",
        "def bin2dec(a):\n",
        "  a_rev = a[::-1]\n",
        "  sum = 0\n",
        "  for i,digit in enumerate(a_rev):\n",
        "    sum += (2**i)*digit\n",
        "  return sum\n",
        "\n",
        "\n",
        "N = 101; T = 50\n",
        "# initialize the 2D array and populate first row with initial condition\n",
        "s = np.zeros((T+1,N), dtype=np.int); s[0,N//2] = 1\n",
        "\n",
        "# set up rule as a list, such that rule[neighborhood] = new_state\n",
        "rule = [0,1,0,0,1,0,0,0]\n",
        "\n",
        "for step in range(T):\n",
        "  for i in range(N):\n",
        "    if i == 0:\n",
        "      neigh = [s[step,-1], s[step,0], s[step,1]]\n",
        "    elif i == N-1:\n",
        "      neigh = [s[step,-2], s[step,-1], s[step,0]]\n",
        "    else:\n",
        "      neigh = [s[step,i-1], s[step,i], s[step,i+1]]\n",
        "    sum = bin2dec(neigh)\n",
        "    s[step+1,i] = rule[sum]\n",
        "\n",
        "fig, ax = plt.subplots(1,1, figsize = (7,5))\n",
        "ax.imshow(s, cmap=plt.cm.binary)\n",
        "ax.axis('off')\n",
        "plt.show()\n",
        "print(s)"
      ],
      "execution_count": 2,
      "outputs": [
        {
          "output_type": "error",
          "ename": "NameError",
          "evalue": "ignored",
          "traceback": [
            "\u001b[0;31m---------------------------------------------------------------------------\u001b[0m",
            "\u001b[0;31mNameError\u001b[0m                                 Traceback (most recent call last)",
            "\u001b[0;32m<ipython-input-2-2eeb5d3f1b44>\u001b[0m in \u001b[0;36m<module>\u001b[0;34m()\u001b[0m\n\u001b[1;32m     27\u001b[0m     \u001b[0ms\u001b[0m\u001b[0;34m[\u001b[0m\u001b[0mstep\u001b[0m\u001b[0;34m+\u001b[0m\u001b[0;36m1\u001b[0m\u001b[0;34m,\u001b[0m\u001b[0mi\u001b[0m\u001b[0;34m]\u001b[0m \u001b[0;34m=\u001b[0m \u001b[0mrule\u001b[0m\u001b[0;34m[\u001b[0m\u001b[0msum\u001b[0m\u001b[0;34m]\u001b[0m\u001b[0;34m\u001b[0m\u001b[0;34m\u001b[0m\u001b[0m\n\u001b[1;32m     28\u001b[0m \u001b[0;34m\u001b[0m\u001b[0m\n\u001b[0;32m---> 29\u001b[0;31m \u001b[0mfig\u001b[0m\u001b[0;34m,\u001b[0m \u001b[0max\u001b[0m \u001b[0;34m=\u001b[0m \u001b[0mplt\u001b[0m\u001b[0;34m.\u001b[0m\u001b[0msubplots\u001b[0m\u001b[0;34m(\u001b[0m\u001b[0;36m1\u001b[0m\u001b[0;34m,\u001b[0m\u001b[0;36m1\u001b[0m\u001b[0;34m,\u001b[0m \u001b[0mfigsize\u001b[0m \u001b[0;34m=\u001b[0m \u001b[0;34m(\u001b[0m\u001b[0;36m7\u001b[0m\u001b[0;34m,\u001b[0m\u001b[0;36m5\u001b[0m\u001b[0;34m)\u001b[0m\u001b[0;34m)\u001b[0m\u001b[0;34m\u001b[0m\u001b[0;34m\u001b[0m\u001b[0m\n\u001b[0m\u001b[1;32m     30\u001b[0m \u001b[0max\u001b[0m\u001b[0;34m.\u001b[0m\u001b[0mimshow\u001b[0m\u001b[0;34m(\u001b[0m\u001b[0ms\u001b[0m\u001b[0;34m,\u001b[0m \u001b[0mcmap\u001b[0m\u001b[0;34m=\u001b[0m\u001b[0mplt\u001b[0m\u001b[0;34m.\u001b[0m\u001b[0mcm\u001b[0m\u001b[0;34m.\u001b[0m\u001b[0mbinary\u001b[0m\u001b[0;34m)\u001b[0m\u001b[0;34m\u001b[0m\u001b[0;34m\u001b[0m\u001b[0m\n\u001b[1;32m     31\u001b[0m \u001b[0max\u001b[0m\u001b[0;34m.\u001b[0m\u001b[0maxis\u001b[0m\u001b[0;34m(\u001b[0m\u001b[0;34m'off'\u001b[0m\u001b[0;34m)\u001b[0m\u001b[0;34m\u001b[0m\u001b[0;34m\u001b[0m\u001b[0m\n",
            "\u001b[0;31mNameError\u001b[0m: name 'plt' is not defined"
          ]
        }
      ]
    },
    {
      "cell_type": "markdown",
      "metadata": {
        "id": "Syx7oJSfUOFZ",
        "colab_type": "text"
      },
      "source": [
        "### **Scientific computing with ```numpy```**\n",
        "Matrices and linear algebra make up a significant part of scientific computing. ```Numpy``` is a fundamental Python library for such computations. We will use it to work efficiently with arrays and matrices, generate random numbers, and have access to common trigonometric functions and special constants. Let's look at a few simple examples."
      ]
    },
    {
      "cell_type": "code",
      "metadata": {
        "id": "VLzwWUg9QAI4",
        "colab_type": "code",
        "colab": {
          "base_uri": "https://localhost:8080/",
          "height": 204
        },
        "outputId": "bca2074e-b03a-4e83-d79c-b8345a12dc98"
      },
      "source": [
        "import numpy as np # import numpy library and give it an alias (short name)\n",
        "\n",
        "# create a 1-D array of zeros of length n. By default, the values are considered floats.\n",
        "n = 5\n",
        "x = np.zeros(n)\n",
        "\n",
        "# create a 1-D array of ones, of integer type:\n",
        "y = np.ones(n, dtype=np.int)\n",
        "\n",
        "# create n evenly-spaced values on [a,b], inclusive of endpoints:\n",
        "a = 1; b = 5\n",
        "s = np.linspace(a, b, n)\n",
        "\n",
        "# we can also create evenly-spaced values on a logarithmic scale:\n",
        "g = np.logspace(a, b, n) # n logarithmically spaced values from 10^a to 10^b.\n",
        "\n",
        "# create a 2-D diagonal matrix, with s on the diagonal:\n",
        "d = np.diag(s)\n",
        "\n",
        "# seed the random number generator, for reproducible results,\n",
        "# then create an array of random numbers.\n",
        "np.random.seed(12) \n",
        "r = np.random.random(n) # generate n random numbers on the interval [0,1).\n",
        "\n",
        "# use trig functions and built in pi.\n",
        "t = np.cos(4*np.pi*r)\n",
        "\n",
        "print(\"Zeros:\", x)\n",
        "print(\"Ones:\", y)\n",
        "print(\"Evenly spaced:\", s)\n",
        "print(\"Diagonal:\\n\", d)\n",
        "print(\"Random:\", r)\n",
        "print(\"Trig:\", t)"
      ],
      "execution_count": 1,
      "outputs": [
        {
          "output_type": "stream",
          "text": [
            "Zeros: [0. 0. 0. 0. 0.]\n",
            "Ones: [1 1 1 1 1]\n",
            "Evenly spaced: [1. 2. 3. 4. 5.]\n",
            "Diagonal:\n",
            " [[1. 0. 0. 0. 0.]\n",
            " [0. 2. 0. 0. 0.]\n",
            " [0. 0. 3. 0. 0.]\n",
            " [0. 0. 0. 4. 0.]\n",
            " [0. 0. 0. 0. 5.]]\n",
            "Random: [0.15416284 0.7400497  0.26331502 0.53373939 0.01457496]\n",
            "Trig: [-0.35832308 -0.99219278 -0.9860344   0.91145812  0.98327407]\n"
          ],
          "name": "stdout"
        }
      ]
    },
    {
      "cell_type": "markdown",
      "metadata": {
        "id": "3TXSiTqNKvS7",
        "colab_type": "text"
      },
      "source": [
        "The following are commonly used attributes of ```numpy``` arrays. Notice the distinction between the shapes of a 1-dimensional array, and a 2-dimensional array with a single column. The difference is important when trying to perform certain operations on matrices which require the dimensions to match."
      ]
    },
    {
      "cell_type": "code",
      "metadata": {
        "id": "76k_H_PtKzyf",
        "colab_type": "code",
        "colab": {}
      },
      "source": [
        "# Access the number of dimensions with .ndim:\n",
        "x = np.zeros(3); y = np.zeros((3,1)); z = np.zeros((3,3))\n",
        "print(\"x is {:d} dimensional; y is {:d} dimensional; z is {:d} dimensional.\".format(x.ndim, y.ndim, z.ndim))\n",
        "\n",
        "# Access the size of each dimension with .shape:\n",
        "print(\"x has shape {}; y has shape {}; z has shape {}.\".format(x.shape, y.shape, z.shape))\n",
        "\n",
        "# we can reshape x to be 2-dimensional. Here, we specify that we want one column,\n",
        "# and indicate -1 for the number of rows, which is interpreted as whatever the\n",
        "# number of rows needs to be in order for x to have a single column.\n",
        "x = x.reshape((-1,1))\n",
        "print(\"x now has shape {}.\".format(x.shape))"
      ],
      "execution_count": null,
      "outputs": []
    },
    {
      "cell_type": "markdown",
      "metadata": {
        "id": "hKpymmyJZVks",
        "colab_type": "text"
      },
      "source": [
        "### **Matrix Operations**\n",
        "The standard addition/subtraction, multiplication/division operators act *element-wise* on matrices. Traditional matrix-matrix or matrix-vector multiplication can be performed via ```numpy.dot```: "
      ]
    },
    {
      "cell_type": "code",
      "metadata": {
        "id": "McIaOSppRvYM",
        "colab_type": "code",
        "colab": {
          "base_uri": "https://localhost:8080/",
          "height": 51
        },
        "outputId": "2c85672e-2602-4a1c-f7be-510bbaaf6ed6"
      },
      "source": [
        "# don't confuse lists and arrays:\n",
        "# a as a list, concatenates when multiplying\n",
        "a = [1]\n",
        "print(5*a)\n",
        "# a as a matrix, multiplying = scalar multiplying of each element\n",
        "a = np.array([1])\n",
        "print(5*a)"
      ],
      "execution_count": null,
      "outputs": [
        {
          "output_type": "stream",
          "text": [
            "[1, 1, 1, 1, 1]\n",
            "[5]\n"
          ],
          "name": "stdout"
        }
      ]
    },
    {
      "cell_type": "code",
      "metadata": {
        "id": "DPNOzDOONZWF",
        "colab_type": "code",
        "colab": {}
      },
      "source": [
        "x = 2*np.ones((2,2)); y = 3*np.ones((2,2))\n",
        "print(\"x =\\n\",x)\n",
        "print(\"y =\\n\",y)\n",
        "print(\"x + y =\\n\",x + y)\n",
        "print(\"x * y =\\n\",x * y)\n",
        "print(\"np.dot(x, y) =\\n\",np.dot(x, y))"
      ],
      "execution_count": null,
      "outputs": []
    },
    {
      "cell_type": "markdown",
      "metadata": {
        "id": "O8H7x1LaO1i_",
        "colab_type": "text"
      },
      "source": [
        "The following are a few more useful operations to know when working with ```numpy``` arrays:"
      ]
    },
    {
      "cell_type": "code",
      "metadata": {
        "id": "_PeAyaF9ZGwy",
        "colab_type": "code",
        "colab": {
          "base_uri": "https://localhost:8080/",
          "height": 289
        },
        "outputId": "eb7e9d3a-cd00-4485-bd8e-c04fd29a7d0c"
      },
      "source": [
        "# Initialize a 3x3 matrix by its values:\n",
        "A = np.array([[-3,0,2],\n",
        "              [1,-4,0],\n",
        "              [0,6,-2]])\n",
        "\n",
        "# Add A and its transpose, obtaining a symmetric matrix:\n",
        "S = A + A.T\n",
        "\n",
        "# Compute the eigenvalues and eigenvectors of a symmetric matrix:\n",
        "evals, evecs = np.linalg.eigh(S)\n",
        "\n",
        "# Find the largest and smallest eigenvalue:\n",
        "emin, emax = np.min(evals), np.max(evals) # this is a multiple-assignment statement.\n",
        "\n",
        "# Dot two eigenvectors (columns):\n",
        "d = np.dot(evecs[:,0], evecs[:,1]) # notice syntax of indexing in each dimension.\n",
        "\n",
        "print(\"A:\\n\", A)\n",
        "print(\"S:\\n\", S)\n",
        "print(\"eigenvalues:\", evals)\n",
        "print(\"Min eigenvalue: {:.4f}\".format(emin))\n",
        "print(\"Max eigenvalue: {:.4f}\".format(emax))\n",
        "print(\"eigenvectors:\\n\", evecs)\n",
        "print(\"dot:\", d)"
      ],
      "execution_count": null,
      "outputs": [
        {
          "output_type": "stream",
          "text": [
            "A:\n",
            " [[-3  0  2]\n",
            " [ 1 -4  0]\n",
            " [ 0  6 -2]]\n",
            "S:\n",
            " [[-6  1  2]\n",
            " [ 1 -8  6]\n",
            " [ 2  6 -4]]\n",
            "eigenvalues: [-12.34607505  -6.6734542    1.01952925]\n",
            "Min eigenvalue: -12.3461\n",
            "Max eigenvalue: 1.0195\n",
            "eigenvectors:\n",
            " [[-0.05996963  0.95195085  0.30032186]\n",
            " [-0.80362955 -0.22450589  0.55115937]\n",
            " [ 0.59210066 -0.2082947   0.77847937]]\n",
            "dot: 0.0\n"
          ],
          "name": "stdout"
        }
      ]
    },
    {
      "cell_type": "markdown",
      "metadata": {
        "id": "Hx5PuI0EUYqQ",
        "colab_type": "text"
      },
      "source": [
        "### **Plotting**\n",
        "The ```matplotlib``` library provides tools for plotting data, and we import the module ```pyplot``` under the alias ```plt``` for short. Specific to notebooks, in order to display our plots inline, we also need to add a \"magic\" command ```%matplotlib inline```."
      ]
    },
    {
      "cell_type": "code",
      "metadata": {
        "id": "W54mjJ0JZ-h5",
        "colab_type": "code",
        "colab": {}
      },
      "source": [
        "%matplotlib inline \n",
        "# put plots in line with the notebooks so they get displayed\n",
        "import matplotlib.pyplot as plt"
      ],
      "execution_count": 3,
      "outputs": []
    },
    {
      "cell_type": "markdown",
      "metadata": {
        "id": "Fj4krKVKWOvE",
        "colab_type": "text"
      },
      "source": [
        "Let's generate and plot some example curves."
      ]
    },
    {
      "cell_type": "code",
      "metadata": {
        "id": "rub3efK_WGT-",
        "colab_type": "code",
        "colab": {
          "base_uri": "https://localhost:8080/",
          "height": 289
        },
        "outputId": "2c5cc651-0a07-4281-8cbc-2af5f30673de"
      },
      "source": [
        "theta = np.linspace(0, 8*np.pi, 200) # 200 evenly-spaced values on [0, 8*pi]\n",
        "cos = np.cos(theta) # .cos function will create a vector by applying the function to each element in the array\n",
        "sin = np.sin(theta)\n",
        "\n",
        "# create a figure with a single subplot. ax is the axis object.\n",
        "fig, ax = plt.subplots(1,1, figsize=(7,4))\n",
        "ax.plot(theta, cos, color='b', label='$\\cos(\\\\theta)$') # Can use Latex-style math mode for labels (though there are some differences).\n",
        "ax.plot(theta, sin, color='r', label='$\\sin(\\\\theta)$', linestyle='dashed') # Here we also changed the linestyle.\n",
        "\n",
        "ax.set_xlabel(\"$\\\\theta$\", size=16)\n",
        "ax.set_ylabel(\"$f(\\\\theta)$\", size=16)\n",
        "ax.tick_params(labelsize=14) # increase tick label size\n",
        "\n",
        "ax.legend(loc='lower right', fontsize=14)\n",
        "plt.show() # display the plot"
      ],
      "execution_count": null,
      "outputs": [
        {
          "output_type": "display_data",
          "data": {
            "image/png": "[encoded data removed]",
            "text/plain": [
              "<Figure size 504x288 with 1 Axes>"
            ]
          },
          "metadata": {
            "tags": [],
            "needs_background": "light"
          }
        }
      ]
    },
    {
      "cell_type": "markdown",
      "metadata": {
        "id": "WxbQHosMeHJh",
        "colab_type": "text"
      },
      "source": [
        "A scatter plot, with logarithmic axes:"
      ]
    },
    {
      "cell_type": "code",
      "metadata": {
        "id": "LGJKMXqteFKe",
        "colab_type": "code",
        "colab": {
          "base_uri": "https://localhost:8080/",
          "height": 274
        },
        "outputId": "f136dda0-38ba-47bf-935a-00dd30b81561"
      },
      "source": [
        "h = np.logspace(-4, 0, 20) # 20 logarithmically spaced values from 10^-4 to 10^0\n",
        "y = 1e-10 * h**-1\n",
        "\n",
        "fig, ax = plt.subplots(1,1, figsize=(7,4))\n",
        "ax.scatter(h, y, marker='o', color='b', zorder=3) # higher z order places scatter on top.\n",
        "\n",
        "# set logarithmic scales on each axis:\n",
        "ax.set_xscale('log')\n",
        "ax.set_yscale('log')\n",
        "ax.grid(which='both') # use to turn on both major and minor grid lines.\n",
        "\n",
        "# a note: the minor grid may not display, if the major ticks jump more than one decade/\n",
        "# the grid would become too crowded.\n",
        "\n",
        "ax.tick_params(labelsize=14)\n",
        "plt.show()"
      ],
      "execution_count": null,
      "outputs": [
        {
          "output_type": "display_data",
          "data": {
            "image/png": "[encoded data removed]",
            "text/plain": [
              "<Figure size 504x288 with 1 Axes>"
            ]
          },
          "metadata": {
            "tags": [],
            "needs_background": "light"
          }
        }
      ]
    },
    {
      "cell_type": "markdown",
      "metadata": {
        "id": "Y6xGXxlNYLKq",
        "colab_type": "text"
      },
      "source": [
        "We can also visualize 2-D arrays as images:"
      ]
    },
    {
      "cell_type": "code",
      "metadata": {
        "id": "8zsQeiE6W0FI",
        "colab_type": "code",
        "colab": {
          "base_uri": "https://localhost:8080/",
          "height": 304
        },
        "outputId": "65cced00-34e9-49bb-a6c6-9fdb6c58ea8f"
      },
      "source": [
        "x = np.linspace(-1, 1, 100)\n",
        "y = np.linspace(-1, 1, 100)\n",
        "X, Y = np.meshgrid(x, y) # a meshgrid tiles the 1-D x array into a 2-D array of identical rows,\n",
        "                         # and tiles the 1-D y array into a 2-D array of identical columns,\n",
        "                         # producing 2 matrices which store the x and y coordinates, respectively,\n",
        "                         # for the entire grid.\n",
        "\n",
        "# Evaluate two different functions on the 2D grid. Each of the operations below\n",
        "# act element-wise on the matrix entries of X and Y.\n",
        "Z = np.sqrt(X**2 + Y**2)\n",
        "W = (1 - (X**2 + Y**3))*np.exp(-(X**2 + Y**2))\n",
        "\n",
        "# Create two plots side by side on the same figure.\n",
        "fig, (ax1, ax2) = plt.subplots(1,2, figsize=(12,5))\n",
        "im1 = ax1.imshow(Z, cmap=plt.cm.viridis) # specify a named colormap (see https://matplotlib.org/3.1.1/gallery/color/colormap_reference.html)\n",
        "ax1.axis('off')                          # turn off axis markings\n",
        "\n",
        "# add a colorbar, specifying to which object colors correspond, and\n",
        "# next to which axes it should be placed.\n",
        "cbar1 = fig.colorbar(im1, ax=ax1)\n",
        "cbar1.set_label('$Z(x,y)$')\n",
        "\n",
        "# the default origin for imshow is in the *upper* left, as matrix column index increases going down,\n",
        "# but we can set it to lower left to reflect that our y values increase going up.\n",
        "im2 = ax2.imshow(W, cmap=plt.cm.plasma, origin='lower')\n",
        "ax2.axis('off')\n",
        "cbar2 = fig.colorbar(im2, ax=ax2)\n",
        "cbar2.set_label('$W(x,y)$')\n",
        "\n",
        "plt.show()"
      ],
      "execution_count": null,
      "outputs": [
        {
          "output_type": "display_data",
          "data": {
            "image/png": "[encoded data removed]",
            "text/plain": [
              "<Figure size 864x360 with 4 Axes>"
            ]
          },
          "metadata": {
            "tags": [],
            "needs_background": "light"
          }
        }
      ]
    },
    {
      "cell_type": "markdown",
      "metadata": {
        "id": "dWnMKzrbtoDx",
        "colab_type": "text"
      },
      "source": [
        "### ***Exercise #1c: Cellular automaton revisited***\n",
        "Revisit the 1-D cell system of Exercise #1b. Adjust your routine so that each new state of the system is stored as the next row in a 2-D ```numpy``` array of type ```np.int```. Rerun the short simulation of $N=101$ cells for $T=50$ steps and plot the 2-D array as an image. Do you recognize the resulting structure?\n",
        "\n",
        "**Optional Extra:** The 8-digit neighborhood rule for advancing the cellular automaton in this example is one of $2^8=256$ possible combinations (see: https://mathworld.wolfram.com/ElementaryCellularAutomaton.html). Since each rule looks like an 8-digit binary number, it is named according to *its* decimal representation (Note the least significant bit corresponds to the update for a neighborhood of 0, and the most significant bit corresponds to a neighborhood of 7, so in our example, $00010010_2 =$ Rule 18). Check that your routine is set up to easily substitute different rules, then test a few other combinations. You can also vary the initial condition; for example, initialize each cell randomly as $0$ or $1$. "
      ]
    },
    {
      "cell_type": "code",
      "metadata": {
        "id": "6cd_QlOD2_Yz",
        "colab_type": "code",
        "colab": {
          "base_uri": "https://localhost:8080/",
          "height": 228
        },
        "outputId": "f8c71c14-b502-4cb0-9df7-85fa19aadb75"
      },
      "source": [
        "N = 101; T = 50\n",
        "# initialize the 2D array and populate first row with initial condition\n",
        "s = np.zeros((T+1,N), dtype=np.int); s[0,N//2] = 1\n",
        "\n",
        "# set up rule as a list, such that rule[neighborhood] = new_state\n",
        "rule = [0,1,0,0,1,0,0,0]\n",
        "\n",
        "def dec2bin(a):\n",
        "  if a > 1:\n",
        "    dec2bin(a//2)\n",
        "    \n",
        "\n",
        "for step in range(T):\n",
        "  for i in range(N):\n",
        "    if i == 0:\n",
        "      neigh = [s[step,-1], s[step,0], s[step,1]]\n",
        "    elif i == N-1:\n",
        "      neigh = [s[step,-2], s[step,-1], s[step,0]]\n",
        "    else:\n",
        "      neigh = [s[step,i-1], s[step,i], s[step,i+1]]\n",
        "    sum = bin2dec(neigh)\n",
        "    s[step+1,i] = rule[sum]\n",
        "\n",
        "fig, ax = plt.subplots(1,1, figsize = (7,5))\n",
        "ax.imshow(s, cmap=plt.cm.binary)\n",
        "ax.axis('off')\n",
        "plt.show()"
      ],
      "execution_count": 4,
      "outputs": [
        {
          "output_type": "display_data",
          "data": {
            "image/png": "[encoded data removed]",
            "text/plain": [
              "<Figure size 504x360 with 1 Axes>"
            ]
          },
          "metadata": {
            "tags": [],
            "needs_background": "light"
          }
        }
      ]
    },
    {
      "cell_type": "markdown",
      "metadata": {
        "id": "5sXRCBQ41kXy",
        "colab_type": "text"
      },
      "source": [
        "### ***Exercise #2: Breaking a rod to form a triangle***\n",
        "Consider a rod of unit length broken at two random points to produce three pieces. By simulating $N=100,000$ such breaking events, estimate the probability that the three pieces form the side lengths of a valid triangle.\n",
        "\n",
        "In addition, measure the time elapsed for $N$ simulations by importing the package ```time```. ```t = time.time()``` returns the time in seconds since January 1, 1970, 00:00:00 (UTC)."
      ]
    },
    {
      "cell_type": "code",
      "metadata": {
        "id": "sOmiZd7srMxA",
        "colab_type": "code",
        "colab": {
          "base_uri": "https://localhost:8080/",
          "height": 51
        },
        "outputId": "08880dec-ff9e-4a97-b5bf-d9a1f07cc9a5"
      },
      "source": [
        "import time\n",
        "t0 = time.time()\n",
        "N = 100000\n",
        "# initialize 2D array to keep all iterations\n",
        "S = np.zeros((N,4), dtype=np.float)\n",
        "\n",
        "for step in range(N):\n",
        "  # generate 3 random numbers\n",
        "  a = np.random.random(3)\n",
        "  # normalize to 1\n",
        "  a /= a.sum()\n",
        "  # sort list in increasing order\n",
        "  a.sort()\n",
        "  # check if the lengths make a triangle\n",
        "  if a[0] + a[1] > a[2]:\n",
        "    a = np.append(a,1)\n",
        "  else:\n",
        "    a = np.append(a,0)\n",
        "  for i in range(0,4):\n",
        "    S[step,i] = a[i]\n",
        "\n",
        "# no. of random breaks that make a triangle\n",
        "sum = np.sum(S[:,3],axis=0)\n",
        "t1 = time.time()\n",
        "print('probability = ',sum/N); print('time taken to run (in seconds)= ',t1-t0)"
      ],
      "execution_count": 27,
      "outputs": [
        {
          "output_type": "stream",
          "text": [
            "probability =  0.50045\n",
            "time taken to run =  1.7324414253234863\n"
          ],
          "name": "stdout"
        }
      ]
    },
    {
      "cell_type": "markdown",
      "metadata": {
        "id": "E8zIn99xwiz0",
        "colab_type": "text"
      },
      "source": [
        "### ***Exercise #3: Generalized Mandelbrot fractal***\n",
        "The Mandelbrot set is the set of complex numbers $c$ which remains bounded under the discrete quadratic map\n",
        "\n",
        "$$\n",
        "z_{n+1} = z_{n}^2 + c\n",
        "$$\n",
        "\n",
        "where $c$ is a complex parameter, and the (complex) initial condition $z_0 = 0 + 0i$. A generalization of the Mandelbrot set is the set of complex numbers $c$ which remain bounded under a polynomial map\n",
        "\n",
        "$$\n",
        "z_{n+1} = z_{n}^p + c\n",
        "$$\n",
        "\n",
        "for a specified order $p$, likewise for initial condition $z_0 = 0 + 0i$. For various values of $c$, write a program which counts the number of iterations of the polynomial map needed before the orbit becomes unbounded. Define unbounded as the condition when\n",
        "\n",
        "$$\n",
        "|z| \\geq R\n",
        "$$\n",
        "\n",
        "for a specified orbit radius $R$, and terminate iteration of the map either when the escape condition is met, or a maximum number of iterations is reached. Run your program for an $n\\times{n}$ grid of evenly spaced values of $c$ in complex space, for $n$ at least $500$, where $\\text{Re}[c]$ ranges from $[-1.5,1]$, and $\\text{Im}[c]$ ranges from $[-1.25,1.25]$, and use the following parameters: escape radius $R=10$, maximum iterations $=1000$, polynomial order $p=4$. Plot the grid of iteration counts as an image.\n",
        "\n",
        "**Hints:**\n",
        "1. Use ```complex(a, b)``` to define a complex number $z = a + bi$. Complex numbers obey all standard arithmetic operations we've covered.\n",
        "2. The magnitude of a complex number can be obtained via the absolute value, ```np.abs(z)```.\n",
        "3. You may want to use a smaller grid while testing and/or debugging.\n",
        "4. You can use $p=2$ to test if your code produces the expected results for the classic Mandelbrot set.\n"
      ]
    },
    {
      "cell_type": "code",
      "metadata": {
        "id": "uRb0MLEL3OWk",
        "colab_type": "code",
        "colab": {
          "base_uri": "https://localhost:8080/",
          "height": 232
        },
        "outputId": "8c8f814f-48c1-4f6b-e7d0-90573f7313c1"
      },
      "source": [
        "# initialize initial condition\n",
        "z = np.zeros((1,10), dtype=complex)\n",
        "z[0] = complex(0,0)\n",
        "n = 2\n",
        "p = 2\n",
        "R = 10\n",
        "\n",
        "#initialize grid of iteration\n",
        "g = np.zeros((n,n), dtype=int)\n",
        "\n",
        "# initialize c\n",
        "real = np.linspace(-1.5,1,n)\n",
        "imag = np.linspace(-1.25,1.25,n)\n",
        "c = np.zeros((n,n), dtype=complex)\n",
        "for i in range(n):\n",
        "  for j in range(n):\n",
        "    c[i,j] = complex(real[i],imag[j])\n",
        "\n",
        "# run iterations\n",
        "for i in range(n):\n",
        "  for j in range(n):\n",
        "    counter = 0\n",
        "    for k in range(1,3):\n",
        "      z[k] = z[k-1]**p + c[i,j]\n",
        "      counter += 1\n",
        "      if np.abs(z[k]) >= R:\n",
        "        g[i,j] = counter\n",
        "        break"
      ],
      "execution_count": 38,
      "outputs": [
        {
          "output_type": "error",
          "ename": "IndexError",
          "evalue": "ignored",
          "traceback": [
            "\u001b[0;31m---------------------------------------------------------------------------\u001b[0m",
            "\u001b[0;31mIndexError\u001b[0m                                Traceback (most recent call last)",
            "\u001b[0;32m<ipython-input-38-743216ef47d4>\u001b[0m in \u001b[0;36m<module>\u001b[0;34m()\u001b[0m\n\u001b[1;32m     22\u001b[0m     \u001b[0mcounter\u001b[0m \u001b[0;34m=\u001b[0m \u001b[0;36m0\u001b[0m\u001b[0;34m\u001b[0m\u001b[0;34m\u001b[0m\u001b[0m\n\u001b[1;32m     23\u001b[0m     \u001b[0;32mfor\u001b[0m \u001b[0mk\u001b[0m \u001b[0;32min\u001b[0m \u001b[0mrange\u001b[0m\u001b[0;34m(\u001b[0m\u001b[0;36m1\u001b[0m\u001b[0;34m,\u001b[0m\u001b[0;36m3\u001b[0m\u001b[0;34m)\u001b[0m\u001b[0;34m:\u001b[0m\u001b[0;34m\u001b[0m\u001b[0;34m\u001b[0m\u001b[0m\n\u001b[0;32m---> 24\u001b[0;31m       \u001b[0mz\u001b[0m\u001b[0;34m[\u001b[0m\u001b[0mk\u001b[0m\u001b[0;34m]\u001b[0m \u001b[0;34m=\u001b[0m \u001b[0mz\u001b[0m\u001b[0;34m[\u001b[0m\u001b[0mk\u001b[0m\u001b[0;34m-\u001b[0m\u001b[0;36m1\u001b[0m\u001b[0;34m]\u001b[0m\u001b[0;34m**\u001b[0m\u001b[0mp\u001b[0m \u001b[0;34m+\u001b[0m \u001b[0mc\u001b[0m\u001b[0;34m[\u001b[0m\u001b[0mi\u001b[0m\u001b[0;34m,\u001b[0m\u001b[0mj\u001b[0m\u001b[0;34m]\u001b[0m\u001b[0;34m\u001b[0m\u001b[0;34m\u001b[0m\u001b[0m\n\u001b[0m\u001b[1;32m     25\u001b[0m       \u001b[0mcounter\u001b[0m \u001b[0;34m+=\u001b[0m \u001b[0;36m1\u001b[0m\u001b[0;34m\u001b[0m\u001b[0;34m\u001b[0m\u001b[0m\n\u001b[1;32m     26\u001b[0m       \u001b[0;32mif\u001b[0m \u001b[0mnp\u001b[0m\u001b[0;34m.\u001b[0m\u001b[0mabs\u001b[0m\u001b[0;34m(\u001b[0m\u001b[0mz\u001b[0m\u001b[0;34m[\u001b[0m\u001b[0mk\u001b[0m\u001b[0;34m+\u001b[0m\u001b[0;36m1\u001b[0m\u001b[0;34m]\u001b[0m\u001b[0;34m)\u001b[0m \u001b[0;34m>=\u001b[0m \u001b[0mR\u001b[0m\u001b[0;34m:\u001b[0m\u001b[0;34m\u001b[0m\u001b[0;34m\u001b[0m\u001b[0m\n",
            "\u001b[0;31mIndexError\u001b[0m: index 1 is out of bounds for axis 0 with size 1"
          ]
        }
      ]
    },
    {
      "cell_type": "markdown",
      "metadata": {
        "id": "Eh0-pIzivU1T",
        "colab_type": "text"
      },
      "source": [
        "**Optional Extras on Mandelbrot for your interest:**\n",
        "\n",
        "Note that for the Mandelbrot set, we always pick the same $z_0 = 0 + 0i$ and allow the complex number $c$ to vary. One might for instance be interested in switching $c$ and $z_0$ in this equation, thus picking a fixed complex value for $c$ and allowing $z_0$ to vary. The two dimensional subsection of $z_0$ for which the iterative formula does not diverge, is then called a [Julia set](https://en.wikipedia.org/wiki/Julia_set). \n",
        "\n",
        "This means that for each $c$, you can generate a Julia set, and the most interesting ones are usually when $c$ is chosen close to the Mandelbrot boundary. Extend your routine to find the Julia set for the following choices of $c$:\n",
        "\n",
        "$$\n",
        "\\begin{aligned}\n",
        "c &= -0.1 + 0.65i \\\\\n",
        "c &= -0.4 + 0.6i \\\\\n",
        "c &= -0.8 + 0.156i\n",
        "\\end{aligned}\n",
        "$$\n",
        "\n",
        "Note you may need to increase your domain for $z_0$ to $[-1.5,1.5]$ in both real and imaginary components to capture the full pattern."
      ]
    }
  ]
}